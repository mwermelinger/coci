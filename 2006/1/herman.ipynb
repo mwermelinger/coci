{
 "cells": [
  {
   "cell_type": "markdown",
   "metadata": {},
   "source": [
    "# Herman\n",
    "\n",
    "This problem asks for the area of a circle\n",
    "when the radius is a straight line (Euclidean geometry) and\n",
    "when it is made of a vertical and horizontal line (Manhattan geometry).\n",
    "\n",
    "## Tests\n",
    "\n",
    "The following code runs my program against the provided test files."
   ]
  },
  {
   "cell_type": "code",
   "execution_count": 1,
   "metadata": {},
   "outputs": [],
   "source": [
    "import glob\n",
    "import subprocess\n",
    "\n",
    "def test():\n",
    "    problem = 'herman'\n",
    "    for infile in sorted(glob.iglob(f'{problem}/*.in.*')):\n",
    "        outfile = infile.replace('in', 'out')\n",
    "        command = f'python {problem}.py < {infile} | diff -w - {outfile}'\n",
    "        print('Running on', infile)\n",
    "        differences = subprocess.run(command, shell=True, text=True,\n",
    "                                     stdout=subprocess.PIPE)\n",
    "        if differences.stdout:\n",
    "            print(differences.stdout)"
   ]
  },
  {
   "cell_type": "markdown",
   "metadata": {},
   "source": [
    "## Official solution\n",
    "\n",
    "In Euclidean geometry, the area of a circle with radius $r$ is $\\pi r^2$.\n",
    "\n",
    "To find out the area for Manhattan geometry,\n",
    "let's draw all the points that are at the same distance from the centre, by going first up or down, and then right or left,\n",
    "for a total of $r = 2$ units. We get a square:\n",
    "\n",
    "![square of 'radius' 2](square.png)\n",
    "\n",
    "Points marked '2+0' are two vertical units and zero horizontal units\n",
    "from the centre _C_. Points marked '1+1' are also 2 units away from _C_,\n",
    "but this time one vertical unit and one horizontal unit.\n",
    "\n",
    "Using Pythagoras' theorem,\n",
    "the side of the square is $\\sqrt{r^2 + r ^2} = \\sqrt{2r^2}$,\n",
    "and the area is the square of that: $2r^2$."
   ]
  },
  {
   "cell_type": "code",
   "execution_count": 2,
   "metadata": {},
   "outputs": [],
   "source": [
    "%%writefile herman.py\n",
    "\n",
    "from math import pi\n",
    "\n",
    "radius = int(input())\n",
    "print(f'{pi * radius * radius:.6f}')\n",
    "print(f'{2 * radius * radius:.6f}')"
   ]
  },
  {
   "cell_type": "code",
   "execution_count": 3,
   "metadata": {},
   "outputs": [
    {
     "name": "stdout",
     "output_type": "stream",
     "text": [
      "Running on herman/herman.in.1\n",
      "Running on herman/herman.in.10\n",
      "Running on herman/herman.in.2\n",
      "Running on herman/herman.in.3\n",
      "Running on herman/herman.in.4\n",
      "Running on herman/herman.in.5\n",
      "Running on herman/herman.in.6\n",
      "Running on herman/herman.in.7\n",
      "Running on herman/herman.in.8\n",
      "Running on herman/herman.in.9\n"
     ]
    }
   ],
   "source": [
    "test()"
   ]
  },
  {
   "cell_type": "markdown",
   "metadata": {},
   "source": [
    "## Concluding remarks\n",
    "\n",
    "The test files have exactly 6 decimal digits, but printing without any\n",
    "formatting would be acceptable too: as the task mentions,\n",
    "results differing by at most $10^{-6}$ are accepted."
   ]
  }
 ],
 "metadata": {
  "jupytext": {
   "formats": "ipynb,md"
  },
  "kernelspec": {
   "display_name": "Python 3",
   "language": "python",
   "name": "python3"
  },
  "language_info": {
   "codemirror_mode": {
    "name": "ipython",
    "version": 3
   },
   "file_extension": ".py",
   "mimetype": "text/x-python",
   "name": "python",
   "nbconvert_exporter": "python",
   "pygments_lexer": "ipython3",
   "version": "3.7.6"
  }
 },
 "nbformat": 4,
 "nbformat_minor": 4
}
