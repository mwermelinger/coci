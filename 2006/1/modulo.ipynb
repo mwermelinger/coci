{
 "cells": [
  {
   "cell_type": "markdown",
   "metadata": {},
   "source": [
    "# Modulo\n",
    "\n",
    "This problem can be summarised as follows:\n",
    "\n",
    "Given 10 non-negative integers, if we divide each by 42, how many different remainders do we get?\n",
    "\n",
    "\n",
    "## Tests\n",
    "\n",
    "The following code runs my program on each input file in this problem's test folder, and compares the result to the corresponding output file, ignoring differences in whitespace. Any other differences are shown. "
   ]
  },
  {
   "cell_type": "code",
   "execution_count": 22,
   "metadata": {},
   "outputs": [],
   "source": [
    "import glob \n",
    "import subprocess\n",
    "from timeit import default_timer as timer\n",
    "\n",
    "def test():\n",
    "    start = timer()\n",
    "    for infile in sorted(glob.iglob('modulo/*.in.*')):\n",
    "        outfile = infile.replace('in', 'out')\n",
    "        print('Running on', infile)\n",
    "        differences = subprocess.run(f'python modulo.py < {infile} | diff -w - {outfile}', \n",
    "                                     shell=True, text=True, stdout=subprocess.PIPE)\n",
    "        if differences.stdout:\n",
    "            print(differences.stdout)\n",
    "    end = timer()\n",
    "    print('Seconds:', end - start)"
   ]
  },
  {
   "cell_type": "markdown",
   "metadata": {},
   "source": [
    "## Official solution\n",
    "\n",
    "As we compute the remainder for each input number, we need to keep track of which values have already been obtained, so that we don't double-count them. This can be achieved with one Boolean for each possible remainder (0 to 41) and counting only those set to true."
   ]
  },
  {
   "cell_type": "code",
   "execution_count": 20,
   "metadata": {},
   "outputs": [
    {
     "name": "stdout",
     "output_type": "stream",
     "text": [
      "Overwriting modulo.py\n"
     ]
    }
   ],
   "source": [
    "%%writefile modulo.py\n",
    "\n",
    "obtained = [False] * 42\n",
    "for line in range(10):\n",
    "    modulo = int(input()) % 42\n",
    "    obtained[modulo] = True\n",
    "    \n",
    "counter = 0\n",
    "for modulo in range(42):\n",
    "    if obtained[modulo]:\n",
    "        counter = counter + 1\n",
    "print(counter)"
   ]
  },
  {
   "cell_type": "code",
   "execution_count": 23,
   "metadata": {},
   "outputs": [
    {
     "name": "stdout",
     "output_type": "stream",
     "text": [
      "Running on modulo/modulo.in.1\n",
      "Running on modulo/modulo.in.10\n",
      "Running on modulo/modulo.in.2\n",
      "Running on modulo/modulo.in.3\n",
      "Running on modulo/modulo.in.4\n",
      "Running on modulo/modulo.in.5\n",
      "Running on modulo/modulo.in.6\n",
      "Running on modulo/modulo.in.7\n",
      "Running on modulo/modulo.in.8\n",
      "Running on modulo/modulo.in.9\n",
      "Seconds: 0.32422604099997443\n"
     ]
    }
   ],
   "source": [
    "test()"
   ]
  },
  {
   "cell_type": "markdown",
   "metadata": {},
   "source": [
    "### Variations\n",
    "I tend to use the 'anonymous name' `_` when a variable is not referred to. \n",
    "The second part of the algorithm can be shortened with the `count` method:\n",
    "it computes how often a given value occurs in a list."
   ]
  },
  {
   "cell_type": "code",
   "execution_count": 26,
   "metadata": {},
   "outputs": [
    {
     "name": "stdout",
     "output_type": "stream",
     "text": [
      "Overwriting modulo.py\n"
     ]
    }
   ],
   "source": [
    "%%writefile modulo.py\n",
    "\n",
    "obtained = [False] * 42\n",
    "for _ in range(10):\n",
    "    modulo = int(input()) % 42\n",
    "    obtained[modulo] = True\n",
    "print(obtained.count(True))"
   ]
  },
  {
   "cell_type": "code",
   "execution_count": 28,
   "metadata": {},
   "outputs": [
    {
     "name": "stdout",
     "output_type": "stream",
     "text": [
      "Running on modulo/modulo.in.1\n",
      "Running on modulo/modulo.in.10\n",
      "Running on modulo/modulo.in.2\n",
      "Running on modulo/modulo.in.3\n",
      "Running on modulo/modulo.in.4\n",
      "Running on modulo/modulo.in.5\n",
      "Running on modulo/modulo.in.6\n",
      "Running on modulo/modulo.in.7\n",
      "Running on modulo/modulo.in.8\n",
      "Running on modulo/modulo.in.9\n",
      "Seconds: 0.3226737410000169\n"
     ]
    }
   ],
   "source": [
    "test()"
   ]
  },
  {
   "cell_type": "markdown",
   "metadata": {},
   "source": [
    "A slightly more efficient version doesn't iterate over all 42 Booleans to count those true.\n",
    "As each remainder is computed, we can immediately increment the counter if it wasn't computed before."
   ]
  },
  {
   "cell_type": "code",
   "execution_count": 36,
   "metadata": {},
   "outputs": [
    {
     "name": "stdout",
     "output_type": "stream",
     "text": [
      "Overwriting modulo.py\n"
     ]
    }
   ],
   "source": [
    "%%writefile modulo.py\n",
    "\n",
    "obtained = [False] * 42\n",
    "counter = 0\n",
    "for _ in range(10):\n",
    "    modulo = int(input()) % 42\n",
    "    if not obtained[modulo]:\n",
    "        counter = counter + 1\n",
    "        obtained[modulo] = True\n",
    "print(counter)"
   ]
  },
  {
   "cell_type": "code",
   "execution_count": 37,
   "metadata": {},
   "outputs": [
    {
     "name": "stdout",
     "output_type": "stream",
     "text": [
      "Running on modulo/modulo.in.1\n",
      "Running on modulo/modulo.in.10\n",
      "Running on modulo/modulo.in.2\n",
      "Running on modulo/modulo.in.3\n",
      "Running on modulo/modulo.in.4\n",
      "Running on modulo/modulo.in.5\n",
      "Running on modulo/modulo.in.6\n",
      "Running on modulo/modulo.in.7\n",
      "Running on modulo/modulo.in.8\n",
      "Running on modulo/modulo.in.9\n",
      "Seconds: 0.31906483400007346\n"
     ]
    }
   ],
   "source": [
    "test()"
   ]
  },
  {
   "cell_type": "markdown",
   "metadata": {},
   "source": [
    "## Sets\n",
    "\n",
    "The distinct remainder values form a set, a collection of items without duplicates. \n",
    "Python has a built-in data type for sets. We simply add each computed remainder to the initially empty set.\n",
    "Being a set, adding a duplicate is automatically ignored. \n",
    "Finally, we compute the size of the set with the `len` function."
   ]
  },
  {
   "cell_type": "code",
   "execution_count": 40,
   "metadata": {},
   "outputs": [
    {
     "name": "stdout",
     "output_type": "stream",
     "text": [
      "Overwriting modulo.py\n"
     ]
    }
   ],
   "source": [
    "%%writefile modulo.py\n",
    "\n",
    "obtained = set()\n",
    "for _ in range(10):\n",
    "    obtained.add(int(input()) % 42)\n",
    "print(len(obtained))"
   ]
  },
  {
   "cell_type": "code",
   "execution_count": 41,
   "metadata": {},
   "outputs": [
    {
     "name": "stdout",
     "output_type": "stream",
     "text": [
      "Running on modulo/modulo.in.1\n",
      "Running on modulo/modulo.in.10\n",
      "Running on modulo/modulo.in.2\n",
      "Running on modulo/modulo.in.3\n",
      "Running on modulo/modulo.in.4\n",
      "Running on modulo/modulo.in.5\n",
      "Running on modulo/modulo.in.6\n",
      "Running on modulo/modulo.in.7\n",
      "Running on modulo/modulo.in.8\n",
      "Running on modulo/modulo.in.9\n",
      "Seconds: 0.32679654100002153\n"
     ]
    }
   ],
   "source": [
    "test()"
   ]
  },
  {
   "cell_type": "markdown",
   "metadata": {},
   "source": [
    "With set comprehensions, the above code can be written in a single line."
   ]
  },
  {
   "cell_type": "code",
   "execution_count": 42,
   "metadata": {},
   "outputs": [
    {
     "name": "stdout",
     "output_type": "stream",
     "text": [
      "Overwriting modulo.py\n"
     ]
    }
   ],
   "source": [
    "%%writefile modulo.py\n",
    "\n",
    "print(len({int(input()) % 42 for _ in range(10)}))"
   ]
  },
  {
   "cell_type": "code",
   "execution_count": 43,
   "metadata": {},
   "outputs": [
    {
     "name": "stdout",
     "output_type": "stream",
     "text": [
      "Running on modulo/modulo.in.1\n",
      "Running on modulo/modulo.in.10\n",
      "Running on modulo/modulo.in.2\n",
      "Running on modulo/modulo.in.3\n",
      "Running on modulo/modulo.in.4\n",
      "Running on modulo/modulo.in.5\n",
      "Running on modulo/modulo.in.6\n",
      "Running on modulo/modulo.in.7\n",
      "Running on modulo/modulo.in.8\n",
      "Running on modulo/modulo.in.9\n",
      "Seconds: 0.32822585299982165\n"
     ]
    }
   ],
   "source": [
    "test()"
   ]
  },
  {
   "cell_type": "markdown",
   "metadata": {},
   "source": [
    "## Concluding remarks\n",
    "\n",
    "Due to the small input size, just 10 integers, neither solution is substantially faster than the others.\n",
    "When a set can only contain a very small number of integers, in this case at most 10 of the 42 different remainders, a Boolean list is usually faster and uses less memory than the built-in set type."
   ]
  }
 ],
 "metadata": {
  "kernelspec": {
   "display_name": "Python 3",
   "language": "python",
   "name": "python3"
  },
  "language_info": {
   "codemirror_mode": {
    "name": "ipython",
    "version": 3
   },
   "file_extension": ".py",
   "mimetype": "text/x-python",
   "name": "python",
   "nbconvert_exporter": "python",
   "pygments_lexer": "ipython3",
   "version": "3.7.6"
  }
 },
 "nbformat": 4,
 "nbformat_minor": 4
}
