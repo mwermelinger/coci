{
 "cells": [
  {
   "cell_type": "markdown",
   "metadata": {},
   "source": [
    "# Modulo\n",
    "\n",
    "This problem can be summarised as follows:\n",
    "\n",
    "Given 10 non-negative integers, if we divide each by 42, how many different remainders do we get?\n",
    "\n",
    "\n",
    "## Tests\n",
    "\n",
    "The following code runs my program on each input file in this problem's test folder, and compares the result to the corresponding output file, ignoring differences in whitespace. Any other differences are shown. "
   ]
  },
  {
   "cell_type": "code",
   "execution_count": 1,
   "metadata": {},
   "outputs": [],
   "source": [
    "import glob\n",
    "import subprocess\n",
    "from timeit import default_timer as timer\n",
    "\n",
    "def test():\n",
    "    problem = 'modulo'\n",
    "    limit = 1 # seconds per test\n",
    "    for infile in sorted(glob.iglob(f'{problem}/*.in.*')):\n",
    "        outfile = infile.replace('in', 'out')\n",
    "        command = f'python {problem}.py < {infile} | diff -w - {outfile}'\n",
    "        start = timer()\n",
    "        differences = subprocess.run(command, shell=True, text=True, \n",
    "                                     stdout=subprocess.PIPE)\n",
    "        runtime = timer() - start\n",
    "        print('Processed', infile, 'in', f'{runtime:.6}', 'seconds')\n",
    "        if differences.stdout:\n",
    "            print(differences.stdout)\n",
    "        elif runtime > limit:\n",
    "            print('Time limit possibly exceeded')"
   ]
  },
  {
   "cell_type": "markdown",
   "metadata": {},
   "source": [
    "## Official solution\n",
    "\n",
    "As we compute the remainder for each input number, we need to keep track of which values have already been obtained, so that we don't double-count them. This can be achieved with one Boolean for each possible remainder (0 to 41) and counting only those set to true."
   ]
  },
  {
   "cell_type": "code",
   "execution_count": 2,
   "metadata": {},
   "outputs": [
    {
     "name": "stdout",
     "output_type": "stream",
     "text": [
      "Overwriting modulo.py\n"
     ]
    }
   ],
   "source": [
    "%%writefile modulo.py\n",
    "\n",
    "obtained = [False] * 42\n",
    "for line in range(10):\n",
    "    modulo = int(input()) % 42\n",
    "    obtained[modulo] = True\n",
    "    \n",
    "counter = 0\n",
    "for modulo in range(42):\n",
    "    if obtained[modulo]:\n",
    "        counter = counter + 1\n",
    "print(counter)"
   ]
  },
  {
   "cell_type": "code",
   "execution_count": 3,
   "metadata": {},
   "outputs": [
    {
     "name": "stdout",
     "output_type": "stream",
     "text": [
      "Processed modulo/modulo.in.1 in 0.0380148 seconds\n",
      "Processed modulo/modulo.in.10 in 0.0387517 seconds\n",
      "Processed modulo/modulo.in.2 in 0.0339327 seconds\n",
      "Processed modulo/modulo.in.3 in 0.0321875 seconds\n",
      "Processed modulo/modulo.in.4 in 0.0342152 seconds\n",
      "Processed modulo/modulo.in.5 in 0.0345566 seconds\n",
      "Processed modulo/modulo.in.6 in 0.0325962 seconds\n",
      "Processed modulo/modulo.in.7 in 0.0338863 seconds\n",
      "Processed modulo/modulo.in.8 in 0.033477 seconds\n",
      "Processed modulo/modulo.in.9 in 0.0320088 seconds\n"
     ]
    }
   ],
   "source": [
    "test()"
   ]
  },
  {
   "cell_type": "markdown",
   "metadata": {},
   "source": [
    "### Variations\n",
    "I tend to use the 'anonymous name' `_` when a variable is not referred to. \n",
    "The second part of the algorithm can be shortened with the `count` method:\n",
    "it computes how often a given value occurs in a list."
   ]
  },
  {
   "cell_type": "code",
   "execution_count": 4,
   "metadata": {},
   "outputs": [
    {
     "name": "stdout",
     "output_type": "stream",
     "text": [
      "Overwriting modulo.py\n"
     ]
    }
   ],
   "source": [
    "%%writefile modulo.py\n",
    "\n",
    "obtained = [False] * 42\n",
    "for _ in range(10):\n",
    "    modulo = int(input()) % 42\n",
    "    obtained[modulo] = True\n",
    "print(obtained.count(True))"
   ]
  },
  {
   "cell_type": "code",
   "execution_count": 5,
   "metadata": {},
   "outputs": [
    {
     "name": "stdout",
     "output_type": "stream",
     "text": [
      "Processed modulo/modulo.in.1 in 0.0372097 seconds\n",
      "Processed modulo/modulo.in.10 in 0.0395276 seconds\n",
      "Processed modulo/modulo.in.2 in 0.0337987 seconds\n",
      "Processed modulo/modulo.in.3 in 0.0362891 seconds\n",
      "Processed modulo/modulo.in.4 in 0.0348772 seconds\n",
      "Processed modulo/modulo.in.5 in 0.034378 seconds\n",
      "Processed modulo/modulo.in.6 in 0.0352146 seconds\n",
      "Processed modulo/modulo.in.7 in 0.0351295 seconds\n",
      "Processed modulo/modulo.in.8 in 0.0349319 seconds\n",
      "Processed modulo/modulo.in.9 in 0.0337325 seconds\n"
     ]
    }
   ],
   "source": [
    "test()"
   ]
  },
  {
   "cell_type": "markdown",
   "metadata": {},
   "source": [
    "A slightly more efficient version doesn't iterate over all 42 Booleans to count those true.\n",
    "As each remainder is computed, we can immediately increment the counter if it wasn't computed before."
   ]
  },
  {
   "cell_type": "code",
   "execution_count": 6,
   "metadata": {},
   "outputs": [
    {
     "name": "stdout",
     "output_type": "stream",
     "text": [
      "Overwriting modulo.py\n"
     ]
    }
   ],
   "source": [
    "%%writefile modulo.py\n",
    "\n",
    "obtained = [False] * 42\n",
    "counter = 0\n",
    "for _ in range(10):\n",
    "    modulo = int(input()) % 42\n",
    "    if not obtained[modulo]:\n",
    "        counter = counter + 1\n",
    "        obtained[modulo] = True\n",
    "print(counter)"
   ]
  },
  {
   "cell_type": "code",
   "execution_count": 7,
   "metadata": {},
   "outputs": [
    {
     "name": "stdout",
     "output_type": "stream",
     "text": [
      "Processed modulo/modulo.in.1 in 0.0375518 seconds\n",
      "Processed modulo/modulo.in.10 in 0.039216 seconds\n",
      "Processed modulo/modulo.in.2 in 0.0344067 seconds\n",
      "Processed modulo/modulo.in.3 in 0.0337265 seconds\n",
      "Processed modulo/modulo.in.4 in 0.0335961 seconds\n",
      "Processed modulo/modulo.in.5 in 0.0335488 seconds\n",
      "Processed modulo/modulo.in.6 in 0.0354713 seconds\n",
      "Processed modulo/modulo.in.7 in 0.0363497 seconds\n",
      "Processed modulo/modulo.in.8 in 0.0336456 seconds\n",
      "Processed modulo/modulo.in.9 in 0.0326688 seconds\n"
     ]
    }
   ],
   "source": [
    "test()"
   ]
  },
  {
   "cell_type": "markdown",
   "metadata": {},
   "source": [
    "## Sets\n",
    "\n",
    "The distinct remainder values form a set, a collection of items without duplicates. \n",
    "Python has a built-in data type for sets. We simply add each computed remainder to the initially empty set.\n",
    "Being a set, adding a duplicate is automatically ignored. \n",
    "Finally, we compute the size of the set with the `len` function."
   ]
  },
  {
   "cell_type": "code",
   "execution_count": 8,
   "metadata": {},
   "outputs": [
    {
     "name": "stdout",
     "output_type": "stream",
     "text": [
      "Overwriting modulo.py\n"
     ]
    }
   ],
   "source": [
    "%%writefile modulo.py\n",
    "\n",
    "obtained = set()\n",
    "for _ in range(10):\n",
    "    obtained.add(int(input()) % 42)\n",
    "print(len(obtained))"
   ]
  },
  {
   "cell_type": "code",
   "execution_count": 9,
   "metadata": {},
   "outputs": [
    {
     "name": "stdout",
     "output_type": "stream",
     "text": [
      "Processed modulo/modulo.in.1 in 0.0374461 seconds\n",
      "Processed modulo/modulo.in.10 in 0.0356767 seconds\n",
      "Processed modulo/modulo.in.2 in 0.035074 seconds\n",
      "Processed modulo/modulo.in.3 in 0.0331623 seconds\n",
      "Processed modulo/modulo.in.4 in 0.0331853 seconds\n",
      "Processed modulo/modulo.in.5 in 0.0333866 seconds\n",
      "Processed modulo/modulo.in.6 in 0.0319047 seconds\n",
      "Processed modulo/modulo.in.7 in 0.03407 seconds\n",
      "Processed modulo/modulo.in.8 in 0.0333742 seconds\n",
      "Processed modulo/modulo.in.9 in 0.0344302 seconds\n"
     ]
    }
   ],
   "source": [
    "test()"
   ]
  },
  {
   "cell_type": "markdown",
   "metadata": {},
   "source": [
    "With set comprehensions, the above code can be written in a single line."
   ]
  },
  {
   "cell_type": "code",
   "execution_count": 10,
   "metadata": {},
   "outputs": [
    {
     "name": "stdout",
     "output_type": "stream",
     "text": [
      "Overwriting modulo.py\n"
     ]
    }
   ],
   "source": [
    "%%writefile modulo.py\n",
    "\n",
    "print(len({int(input()) % 42 for _ in range(10)}))"
   ]
  },
  {
   "cell_type": "code",
   "execution_count": 11,
   "metadata": {},
   "outputs": [
    {
     "name": "stdout",
     "output_type": "stream",
     "text": [
      "Processed modulo/modulo.in.1 in 0.0409605 seconds\n",
      "Processed modulo/modulo.in.10 in 0.0419417 seconds\n",
      "Processed modulo/modulo.in.2 in 0.0345338 seconds\n",
      "Processed modulo/modulo.in.3 in 0.0350237 seconds\n",
      "Processed modulo/modulo.in.4 in 0.0331066 seconds\n",
      "Processed modulo/modulo.in.5 in 0.0352597 seconds\n",
      "Processed modulo/modulo.in.6 in 0.0333118 seconds\n",
      "Processed modulo/modulo.in.7 in 0.0340377 seconds\n",
      "Processed modulo/modulo.in.8 in 0.0336131 seconds\n",
      "Processed modulo/modulo.in.9 in 0.0360549 seconds\n"
     ]
    }
   ],
   "source": [
    "test()"
   ]
  },
  {
   "cell_type": "markdown",
   "metadata": {},
   "source": [
    "## Concluding remarks\n",
    "\n",
    "Due to the small input size, just 10 integers, neither solution is substantially faster than the others.\n",
    "When a set can only contain a very small number of integers, in this case at most 10 of the 42 different remainders, a Boolean list is usually faster and uses less memory than the built-in set type."
   ]
  }
 ],
 "metadata": {
  "kernelspec": {
   "display_name": "Python 3",
   "language": "python",
   "name": "python3"
  },
  "language_info": {
   "codemirror_mode": {
    "name": "ipython",
    "version": 3
   },
   "file_extension": ".py",
   "mimetype": "text/x-python",
   "name": "python",
   "nbconvert_exporter": "python",
   "pygments_lexer": "ipython3",
   "version": "3.7.6"
  }
 },
 "nbformat": 4,
 "nbformat_minor": 4
}
