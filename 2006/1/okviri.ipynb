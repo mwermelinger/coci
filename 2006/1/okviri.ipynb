{
 "cells": [
  {
   "cell_type": "markdown",
   "metadata": {},
   "source": [
    "# Okviri\n",
    "\n",
    "This problem asks to surround a given word by a pattern of two different characters.\n",
    "\n",
    "\n",
    "## Tests\n",
    "\n",
    "This function tests my program with the provided input and output files."
   ]
  },
  {
   "cell_type": "code",
   "execution_count": 1,
   "metadata": {},
   "outputs": [],
   "source": [
    "import glob\n",
    "import subprocess\n",
    "from timeit import default_timer as timer\n",
    "\n",
    "def test():\n",
    "    problem = 'okviri'\n",
    "    limit = 1 # seconds per test\n",
    "    for infile in sorted(glob.iglob(f'{problem}/*.in.*')):\n",
    "        outfile = infile.replace('in', 'out')\n",
    "        command = f'python {problem}.py < {infile} | diff -w - {outfile}'\n",
    "        start = timer()\n",
    "        differences = subprocess.run(command, shell=True, text=True,\n",
    "                                     stdout=subprocess.PIPE)\n",
    "        runtime = timer() - start\n",
    "        print('Processed', infile, 'in', f'{runtime:.6}', 'seconds')\n",
    "        if differences.stdout:\n",
    "            print(differences.stdout)\n",
    "        elif runtime > limit:\n",
    "            print('Time limit possibly exceeded')"
   ]
  },
  {
   "cell_type": "markdown",
   "metadata": {},
   "source": [
    "## Official solution\n",
    "\n",
    "The approach is to set up a matrix of dots,\n",
    "replace some of them by the letters and the frame characters,\n",
    "and finally print the matrix.\n",
    "\n",
    "The matrix has 5 rows. Each frame takes 5 columns.\n",
    "Due to the overlap, the last column of a letter is the first of the next letter.\n",
    "So in total there are 4 columns per letter plus a final column for the last letter.\n",
    "\n",
    "We first write the Peter frames (with `#`) for every letter\n",
    "and then the Wendy frames (with `*`) for every third letter.\n",
    "\n",
    "The letters are put in the middle row (row 2), every 4 columns,\n",
    "starting at column 2. (Remember that lists are 0-indexed in Python.)\n",
    "We replace a dot by the frame character if\n",
    "it's at a Manhattan distance of 2 (see [Herman](herman.ipynb)) from the letter."
   ]
  },
  {
   "cell_type": "code",
   "execution_count": 2,
   "metadata": {},
   "outputs": [
    {
     "name": "stdout",
     "output_type": "stream",
     "text": [
      "Writing okviri.py\n"
     ]
    }
   ],
   "source": [
    "%%writefile okviri.py\n",
    "\n",
    "def frame(column, letter, character):\n",
    "    matrix[2][column] = letter\n",
    "    for dr in range(-2, 3):\n",
    "        for dc in range(-2, 3):\n",
    "            if abs(dr) + abs(dc) == 2:\n",
    "                matrix[2 + dr][column + dc] = character\n",
    "\n",
    "word = input().rstrip()\n",
    "length = len(word)\n",
    "\n",
    "matrix = []\n",
    "for row in range(5):\n",
    "    matrix.append(['.'] * (4 * length + 1))\n",
    "\n",
    "for index in range(length):\n",
    "    frame(4 * index + 2, word[index], '#')\n",
    "for index in range(2, length, 3):\n",
    "    frame(4 * index + 2, word[index], '*')\n",
    "\n",
    "for row in matrix:\n",
    "    print(''.join(row))"
   ]
  },
  {
   "cell_type": "markdown",
   "metadata": {},
   "source": [
    "Calling `rstrip` shouldn't be necessary, as `input` removes the final newline,\n",
    "but for some reason the above test setup doesn't work without it."
   ]
  },
  {
   "cell_type": "code",
   "execution_count": 3,
   "metadata": {},
   "outputs": [
    {
     "name": "stdout",
     "output_type": "stream",
     "text": [
      "Processed okviri/okviri.in.1 in 0.0482338 seconds\n",
      "Processed okviri/okviri.in.10 in 0.0413021 seconds\n",
      "Processed okviri/okviri.in.2 in 0.0489019 seconds\n",
      "Processed okviri/okviri.in.3 in 0.0325137 seconds\n",
      "Processed okviri/okviri.in.4 in 0.0345223 seconds\n",
      "Processed okviri/okviri.in.5 in 0.0365966 seconds\n",
      "Processed okviri/okviri.in.6 in 0.0367839 seconds\n",
      "Processed okviri/okviri.in.7 in 0.0340978 seconds\n",
      "Processed okviri/okviri.in.8 in 0.033223 seconds\n",
      "Processed okviri/okviri.in.9 in 0.0340816 seconds\n"
     ]
    }
   ],
   "source": [
    "test()"
   ]
  },
  {
   "cell_type": "markdown",
   "metadata": {},
   "source": [
    "### Variation\n",
    "\n",
    "A more straightforward approach, that doesn't require coming up with index expressions, is as follows:"
   ]
  },
  {
   "cell_type": "code",
   "execution_count": 4,
   "metadata": {},
   "outputs": [
    {
     "name": "stdout",
     "output_type": "stream",
     "text": [
      "Overwriting okviri.py\n"
     ]
    }
   ],
   "source": [
    "%%writefile okviri.py\n",
    "\n",
    "def frame(column, letter, character):\n",
    "    matrix[0][column] = character\n",
    "    matrix[1][column-1] = matrix[1][column+1] = character\n",
    "    matrix[2][column] = letter\n",
    "    matrix[2][column-2] = matrix[2][column+2] = character\n",
    "    matrix[3][column-1] = matrix[3][column+1] = character\n",
    "    matrix[4][column] = character\n",
    "\n",
    "word = input().rstrip()\n",
    "length = len(word)\n",
    "\n",
    "matrix = []\n",
    "for row in range(5):\n",
    "    matrix.append(['.'] * (4 * length + 1))\n",
    "\n",
    "column = 2\n",
    "for letter in word:\n",
    "    frame(column, letter, '#')\n",
    "    column += 4\n",
    "\n",
    "column = 2\n",
    "count = 1\n",
    "for letter in word:\n",
    "    if count % 3 == 0:\n",
    "        frame(column, letter, '*')\n",
    "    column += 4\n",
    "    count += 1\n",
    "\n",
    "for row in matrix:\n",
    "    print(''.join(row))"
   ]
  },
  {
   "cell_type": "code",
   "execution_count": 5,
   "metadata": {},
   "outputs": [
    {
     "name": "stdout",
     "output_type": "stream",
     "text": [
      "Processed okviri/okviri.in.1 in 0.0390835 seconds\n",
      "Processed okviri/okviri.in.10 in 0.0343994 seconds\n",
      "Processed okviri/okviri.in.2 in 0.0339757 seconds\n",
      "Processed okviri/okviri.in.3 in 0.0347493 seconds\n",
      "Processed okviri/okviri.in.4 in 0.0344589 seconds\n",
      "Processed okviri/okviri.in.5 in 0.0351045 seconds\n",
      "Processed okviri/okviri.in.6 in 0.0348232 seconds\n",
      "Processed okviri/okviri.in.7 in 0.0347018 seconds\n",
      "Processed okviri/okviri.in.8 in 0.0343148 seconds\n",
      "Processed okviri/okviri.in.9 in 0.0369796 seconds\n"
     ]
    }
   ],
   "source": [
    "test()"
   ]
  },
  {
   "cell_type": "markdown",
   "metadata": {},
   "source": [
    "## Printing directly\n",
    "\n",
    "It's possible to print line by line, 4 characters at a time for each letter.\n",
    "In the middle row, a frame starts with `*`\n",
    "if it or the previous frame is a Wendy frame.\n",
    "We need a Boolean to remember the kind of frame."
   ]
  },
  {
   "cell_type": "code",
   "execution_count": 6,
   "metadata": {},
   "outputs": [
    {
     "name": "stdout",
     "output_type": "stream",
     "text": [
      "Overwriting okviri.py\n"
     ]
    }
   ],
   "source": [
    "%%writefile okviri.py\n",
    "\n",
    "word = input().rstrip()\n",
    "length = len(word)\n",
    "\n",
    "def first_and_last():\n",
    "    for index in range(length):\n",
    "        if (index + 1) % 3 == 0:\n",
    "            print('..*.', end='')\n",
    "        else:\n",
    "            print('..#.', end='')\n",
    "    print('.')\n",
    "\n",
    "def second_and_penultimate():\n",
    "    for index in range(length):\n",
    "        if (index + 1) % 3 == 0:\n",
    "            print('.*.*', end='')\n",
    "        else:\n",
    "            print('.#.#', end='')\n",
    "    print('.')\n",
    "\n",
    "first_and_last()\n",
    "second_and_penultimate()\n",
    "\n",
    "previous_wendy = False\n",
    "for index, letter in enumerate(word):\n",
    "    this_wendy = (index + 1) % 3 == 0\n",
    "    if this_wendy or previous_wendy:\n",
    "        print(f'*.{letter}.', end='')\n",
    "    else:\n",
    "        print(f'#.{letter}.', end='')\n",
    "    previous_wendy = this_wendy\n",
    "print('*' if previous_wendy else '#')\n",
    "\n",
    "second_and_penultimate()\n",
    "first_and_last()"
   ]
  },
  {
   "cell_type": "code",
   "execution_count": 7,
   "metadata": {},
   "outputs": [
    {
     "name": "stdout",
     "output_type": "stream",
     "text": [
      "Processed okviri/okviri.in.1 in 0.042947 seconds\n",
      "Processed okviri/okviri.in.10 in 0.0333612 seconds\n",
      "Processed okviri/okviri.in.2 in 0.0346989 seconds\n",
      "Processed okviri/okviri.in.3 in 0.0334424 seconds\n",
      "Processed okviri/okviri.in.4 in 0.0340195 seconds\n",
      "Processed okviri/okviri.in.5 in 0.0349161 seconds\n",
      "Processed okviri/okviri.in.6 in 0.0345027 seconds\n",
      "Processed okviri/okviri.in.7 in 0.0350255 seconds\n",
      "Processed okviri/okviri.in.8 in 0.0356607 seconds\n",
      "Processed okviri/okviri.in.9 in 0.0325975 seconds\n"
     ]
    }
   ],
   "source": [
    "test()"
   ]
  },
  {
   "cell_type": "markdown",
   "metadata": {},
   "source": [
    "## Concluding remarks\n",
    "\n",
    "I was expecting the last solution to be the slowest,\n",
    "due to its repetitive small I/O operations,\n",
    "but it turns out that they all take about the same time.\n",
    "Maybe with longer words the differences become noticeable."
   ]
  }
 ],
 "metadata": {
  "jupytext": {
   "formats": "ipynb,md"
  },
  "kernelspec": {
   "display_name": "Python 3",
   "language": "python",
   "name": "python3"
  },
  "language_info": {
   "codemirror_mode": {
    "name": "ipython",
    "version": 3
   },
   "file_extension": ".py",
   "mimetype": "text/x-python",
   "name": "python",
   "nbconvert_exporter": "python",
   "pygments_lexer": "ipython3",
   "version": "3.7.6"
  }
 },
 "nbformat": 4,
 "nbformat_minor": 4
}
