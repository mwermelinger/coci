{
 "cells": [
  {
   "cell_type": "markdown",
   "metadata": {},
   "source": [
    "# Slikar\n",
    "\n",
    "This problem asks to check if some animals can reach a den, while the 2D terrain is being flooded,\n",
    "and if so, in how many orthogonal moves.\n",
    "\n",
    "\n",
    "## Tests\n",
    "\n",
    "This function tests my program with the provided input and output files."
   ]
  },
  {
   "cell_type": "code",
   "execution_count": 1,
   "metadata": {},
   "outputs": [],
   "source": [
    "import glob\n",
    "import subprocess\n",
    "from timeit import default_timer as timer\n",
    "\n",
    "def test():\n",
    "    problem = 'slikar'\n",
    "    limit = 1 # seconds per test\n",
    "    for infile in sorted(glob.iglob(f'{problem}/*.in.*')):\n",
    "        outfile = infile.replace('in', 'out')\n",
    "        command = f'python {problem}.py < {infile} | diff -w - {outfile}'\n",
    "        start = timer()\n",
    "        differences = subprocess.run(command, shell=True, text=True,\n",
    "                                     stdout=subprocess.PIPE)\n",
    "        runtime = timer() - start\n",
    "        print('Processed', infile, 'in', f'{runtime:.6}', 'seconds')\n",
    "        if differences.stdout:\n",
    "            print(differences.stdout)\n",
    "        elif runtime > limit:\n",
    "            print('Time limit possibly exceeded')"
   ]
  },
  {
   "cell_type": "markdown",
   "metadata": {},
   "source": [
    "## Official solution\n",
    "\n",
    "The main idea is to simulate the movement of the animals and the spread of the water.\n",
    "We start with a 2D matrix of characters representing the initial state of the terrain.\n",
    "After each step, the matrix shows all positions the animals could have reached by then, and all positions flooded.\n",
    "\n",
    "Given the previous matrix, the matrix after the current step is the same, except that:\n",
    "\n",
    "- Any field that is neither a rock (`X`) nor the den (`D`) and is adjacent to water (`*`), becomes water.\n",
    "- Any empty field (`.`) not adjacent to water but adjacent to a position the animals can reach (`S`),\n",
    "  becomes reachable.\n",
    "\n",
    "If a position adjacent to the den is reachable in the previous matrix,\n",
    "we can stop as the den is reached in this step.\n",
    "If after this step no reachable positions remain, we can stop too: the water caught up with the animals.\n",
    "\n",
    "With 2D grids, a common trick is to add 2 extra rows and columns (with rocks, in this case) around the grid,\n",
    "so that we don't have to check for the edge of the terrain when looking at adjacent fields.\n",
    "Only orthogonal adjacency is considered in this problem."
   ]
  },
  {
   "cell_type": "code",
   "execution_count": 2,
   "metadata": {},
   "outputs": [
    {
     "name": "stdout",
     "output_type": "stream",
     "text": [
      "Writing slikar.py\n"
     ]
    }
   ],
   "source": [
    "%%writefile slikar.py\n",
    "\n",
    "def adjacent(row, col, field):\n",
    "    return previous[row-1][col] == field or previous[row+1][col] == field or \\\n",
    "           previous[row][col-1] == field or previous[row][col+1] == field\n",
    "\n",
    "rows, columns = [int(string) for string in input().split()]\n",
    "\n",
    "previous = [ ['X'] * (columns + 2) ]                    # first row is rocks\n",
    "for _ in range(rows):\n",
    "    previous.append(list('X' + input().rstrip() + 'X')) # rocks around the edges\n",
    "previous.append(['X'] * (columns + 2))                  # last row is rocks\n",
    "\n",
    "moves = 0\n",
    "alive = True\n",
    "reached = False\n",
    "\n",
    "while not reached and alive:\n",
    "    current = [row[:] for row in previous]              # copy the 2D grid\n",
    "    for row in range(1, rows+1):\n",
    "        for col in range(1, columns+1):\n",
    "            field = previous[row][col]\n",
    "            # water floods adjacent empty and reachable fields\n",
    "            if field in '.S' and adjacent(row, col, '*'):\n",
    "                current[row][col] = '*'\n",
    "            # animals reach adjacent empty fields\n",
    "            elif field == '.' and adjacent(row, col, 'S'):\n",
    "                current[row][col] = 'S'\n",
    "            # animals reach the den if adjacent\n",
    "            elif field == 'D' and adjacent(row, col, 'S'):\n",
    "                current[row][col] = 'S'                 # keeps alive == True\n",
    "                reached = True\n",
    "    # check if the animals drowned (reachable positions were flooded)\n",
    "    alive = any('S' in row for row in current)\n",
    "    moves += 1\n",
    "    previous = current\n",
    "\n",
    "print(moves if reached else 'KAKTUS')"
   ]
  },
  {
   "cell_type": "markdown",
   "metadata": {},
   "source": [
    "Calling `rstrip` shouldn't be necessary, as `input` removes the final newline,\n",
    "but for some reason the above test setup doesn't work without it.\n",
    "\n",
    "The order of the first two if-statements is important: \n",
    "if both animals and water can reach an empty field in this step, the field becomes flooded and not reachable.\n",
    "Overwriting the den with `S` is not necessary."
   ]
  },
  {
   "cell_type": "code",
   "execution_count": 3,
   "metadata": {},
   "outputs": [
    {
     "name": "stdout",
     "output_type": "stream",
     "text": [
      "Processed slikar/slikar.in.1 in 0.0480809 seconds\n",
      "Processed slikar/slikar.in.10 in 0.0441551 seconds\n",
      "Processed slikar/slikar.in.2 in 0.04353 seconds\n",
      "Processed slikar/slikar.in.3 in 0.0377028 seconds\n",
      "Processed slikar/slikar.in.4 in 0.0499329 seconds\n",
      "Processed slikar/slikar.in.5 in 0.178552 seconds\n",
      "Processed slikar/slikar.in.6 in 0.187836 seconds\n",
      "Processed slikar/slikar.in.7 in 0.129829 seconds\n",
      "Processed slikar/slikar.in.8 in 0.179769 seconds\n",
      "Processed slikar/slikar.in.9 in 0.191442 seconds\n"
     ]
    }
   ],
   "source": [
    "test()"
   ]
  }
 ],
 "metadata": {
  "jupytext": {
   "formats": "ipynb,md"
  },
  "kernelspec": {
   "display_name": "Python 3",
   "language": "python",
   "name": "python3"
  },
  "language_info": {
   "codemirror_mode": {
    "name": "ipython",
    "version": 3
   },
   "file_extension": ".py",
   "mimetype": "text/x-python",
   "name": "python",
   "nbconvert_exporter": "python",
   "pygments_lexer": "ipython3",
   "version": "3.7.6"
  }
 },
 "nbformat": 4,
 "nbformat_minor": 4
}
